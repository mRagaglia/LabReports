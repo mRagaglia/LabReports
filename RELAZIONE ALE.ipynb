{
 "cells": [
  {
   "cell_type": "code",
   "execution_count": 14,
   "metadata": {},
   "outputs": [],
   "source": [
    "# plots will be shown inline \n",
    "%matplotlib inline \n",
    "import matplotlib.pyplot as plt\n",
    "\n",
    "import numpy\n",
    "from numpy import sqrt,floor\n",
    "\n",
    "import numpy as np\n",
    "import scipy as sp\n",
    "from scipy import stats\n",
    "\n",
    "\n",
    "import pandas as pd\n",
    "import random\n",
    "import math\n",
    "from matplotlib.ticker import ScalarFormatter"
   ]
  },
  {
   "cell_type": "markdown",
   "metadata": {},
   "source": [
    "# ACQUISIZIONE DATI"
   ]
  },
  {
   "cell_type": "code",
   "execution_count": 15,
   "metadata": {},
   "outputs": [],
   "source": [
    "from astropy.io import fits\n",
    "## Sito di GitHub per un po' del codice ----> http://eso-python.github.io/ESOPythonTutorials/FITS-images.html"
   ]
  },
  {
   "cell_type": "code",
   "execution_count": 126,
   "metadata": {},
   "outputs": [
    {
     "name": "stdout",
     "output_type": "stream",
     "text": [
      "(1536, 1024)\n",
      "Mean: 1357.5001\n",
      "Stdev: 0.0025003988\n",
      "Mean: 1338.4689\n",
      "Stdev: 0.010953287\n",
      "Mean: 1312.9791\n",
      "Stdev: 0.20743734\n"
     ]
    }
   ],
   "source": [
    "biasmed30 = fits.getdata('BIASMED -30K.fit')\n",
    "print(biasmed30.shape)\n",
    "print('Mean:', np.mean(image_data))\n",
    "print('Stdev:', np.std(image_data))\n",
    "NBINS1 = 100\n",
    "#hist3=plt.hist(biasmed30.flat, NBINS1)\n",
    "\n",
    "\n",
    "biasmed10 = fits.getdata('BIASMED -10K.fit')\n",
    "print('Mean:', np.mean(biasmed10))\n",
    "print('Stdev:', np.std(biasmed10))\n",
    "NBINS2 = 100\n",
    "#hist2=plt.hist(biasmed10.flat, NBINS2)\n",
    "\n",
    "\n",
    "biasmedamb = fits.getdata('BIASMED 10K.fit')\n",
    "print('Mean:', np.mean(biasmedamb))\n",
    "print('Stdev:', np.std(biasmedamb))\n",
    "NBINS3 = 1000\n",
    "#hist1=plt.hist(biasmedamb.flat, NBINS3)\n"
   ]
  },
  {
   "cell_type": "code",
   "execution_count": 106,
   "metadata": {},
   "outputs": [
    {
     "data": {
      "text/plain": [
       "<matplotlib.collections.PathCollection at 0x1e300cb9700>"
      ]
     },
     "execution_count": 106,
     "metadata": {},
     "output_type": "execute_result"
    },
    {
     "data": {
      "image/png": "[encoded data removed]",
      "text/plain": [
       "<Figure size 432x288 with 1 Axes>"
      ]
     },
     "metadata": {
      "needs_background": "light"
     },
     "output_type": "display_data"
    }
   ],
   "source": []
  },
  {
   "cell_type": "code",
   "execution_count": 112,
   "metadata": {},
   "outputs": [
    {
     "data": {
      "text/plain": [
       "<matplotlib.legend.Legend at 0x1e300c546d0>"
      ]
     },
     "execution_count": 112,
     "metadata": {},
     "output_type": "execute_result"
    },
    {
     "data": {
      "image/png": "[encoded data removed]",
      "text/plain": [
       "<Figure size 432x288 with 1 Axes>"
      ]
     },
     "metadata": {
      "needs_background": "light"
     },
     "output_type": "display_data"
    }
   ],
   "source": [
    "gambdark1 = np.mean(fits.getdata('dark1_10k.fit'))\n",
    "gambdark2 = np.mean(fits.getdata('dark2_10k.fit'))\n",
    "gambdark3 = np.mean(fits.getdata('dark3_10k.fit'))\n",
    "gambdark4 = np.mean(fits.getdata('dark4_10k.fit'))\n",
    "gambdark5 = np.mean(fits.getdata('dark5_10k.fit'))\n",
    "gambdark6 = np.mean(fits.getdata('dark6_10k.fit'))\n",
    "gambdark7 = np.mean(fits.getdata('dark7_10k.fit'))\n",
    "gambdark8 = np.mean(fits.getdata('dark8_10k.fit'))\n",
    "gambdark9 = np.mean(fits.getdata('dark9_10k.fit'))\n",
    "gambdark10 = np.mean(fits.getdata('dark10_10k.fit'))\n",
    "\n",
    "\n",
    "\n",
    "y=np.asarray([gambdark1,gambdark2,gambdark3,gambdark4,gambdark5,gambdark6,gambdark7,gambdark8,gambdark9,gambdark10])\n",
    "x=np.asarray([10,20,30,40,50,60,70,80,90,100])\n",
    "plt.scatter(x,y-1312.9791,label='10')\n",
    "\n",
    "g10dark1 = np.mean(fits.getdata('dark1_-10k.fit'))\n",
    "g10dark2 = np.mean(fits.getdata('dark2_-10k.fit'))\n",
    "g10dark3 = np.mean(fits.getdata('dark3_-10k.fit'))\n",
    "g10dark4 = np.mean(fits.getdata('dark4_-10k.fit'))\n",
    "g10dark5 = np.mean(fits.getdata('dark5_-10k.fit'))\n",
    "g10dark6 = np.mean(fits.getdata('dark6_-10k.fit'))\n",
    "g10dark7 = np.mean(fits.getdata('dark7_-10k.fit'))\n",
    "g10dark8 = np.mean(fits.getdata('dark8_-10k.fit'))\n",
    "g10dark9 = np.mean(fits.getdata('dark9_-10k.fit'))\n",
    "g10dark10 = np.mean(fits.getdata('dark10_-10k.fit'))\n",
    "\n",
    "y=np.asarray([g10dark1,g10dark2,g10dark3,g10dark4,g10dark5,g10dark6,g10dark7,g10dark8,g10dark9,g10dark10])\n",
    "x=np.asarray([10,20,30,40,50,60,70,80,90,100])\n",
    "plt.scatter(x,y-1338.4689,label='-10')\n",
    "\n",
    "g30dark1 = np.mean(fits.getdata('d1_-30k.fit'))\n",
    "g30dark2 = np.mean(fits.getdata('d2_-30k.fit'))\n",
    "g30dark3 = np.mean(fits.getdata('d3_-30k.fit'))\n",
    "g30dark4 = np.mean(fits.getdata('d4_-30k.fit'))\n",
    "g30dark5 = np.mean(fits.getdata('d5_-30k.fit'))\n",
    "g30dark6 = np.mean(fits.getdata('d6_-30k.fit'))\n",
    "g30dark7 = np.mean(fits.getdata('d7_-30k.fit'))\n",
    "g30dark8 = np.mean(fits.getdata('d8_-30k.fit'))\n",
    "g30dark9 = np.mean(fits.getdata('d9_-30k.fit'))\n",
    "g30dark10 = np.mean(fits.getdata('d10_-30k.fit'))\n",
    "\n",
    "y=np.asarray([g30dark1,g30dark2,g30dark3,g30dark4,g30dark5,g30dark6,g30dark7,g30dark8,g30dark9,g30dark10])\n",
    "x=np.asarray([10,20,30,40,50,60,70,80,90,100])\n",
    "plt.scatter(x,y-1357.5001,label='-30')\n",
    "plt.legend()"
   ]
  },
  {
   "cell_type": "code",
   "execution_count": 105,
   "metadata": {},
   "outputs": [
    {
     "data": {
      "text/plain": [
       "(1357.0, 1380.0)"
      ]
     },
     "execution_count": 105,
     "metadata": {},
     "output_type": "execute_result"
    },
    {
     "data": {
      "image/png": "[encoded data removed]",
      "text/plain": [
       "<Figure size 432x288 with 1 Axes>"
      ]
     },
     "metadata": {
      "needs_background": "light"
     },
     "output_type": "display_data"
    }
   ],
   "source": [
    "-1357.5001   -30\n",
    "-1338.4689   -10\n",
    "-1312.9791    10"
   ]
  },
  {
   "cell_type": "code",
   "execution_count": 123,
   "metadata": {},
   "outputs": [
    {
     "data": {
      "image/png": "[encoded data removed]",
      "text/plain": [
       "<Figure size 432x288 with 1 Axes>"
      ]
     },
     "metadata": {
      "needs_background": "light"
     },
     "output_type": "display_data"
    }
   ],
   "source": [
    "g20dark1=np.mean(fits.getdata('d3_-30k.fit'))\n",
    "g20dark2=np.mean(fits.getdata('dark3_-10k.fit'))\n",
    "g20dark3=np.mean(fits.getdata('dark3_10k.fit'))\n",
    "y=np.asarray([g20dark1-1357.5001,g20dark2-1338.4689 ,g20dark3-1312.9791])\n",
    "x=np.asarray([-30,-10,10])\n",
    "plt.scatter(x,y,label='30')\n",
    "\n",
    "g50dark1=np.mean(fits.getdata('d5_-30k.fit'))\n",
    "g50dark2=np.mean(fits.getdata('dark5_-10k.fit'))\n",
    "g50dark3=np.mean(fits.getdata('dark5_10k.fit'))\n",
    "y=np.asarray([g50dark1-1357.5001  , g50dark2-1338.4689 ,g50dark3-1312.9791])\n",
    "x=np.asarray([-30,-10,10])\n",
    "plt.scatter(x,y,label='50')\n",
    "\n",
    "g80dark1=np.mean(fits.getdata('d8_-30k.fit'))\n",
    "g80dark2=np.mean(fits.getdata('dark8_-10k.fit'))\n",
    "g80dark3=np.mean(fits.getdata('dark8_10k.fit'))\n",
    "y=np.asarray([g80dark1-1357.5001  ,g80dark2-1338.4689 ,g80dark3-1312.9791])\n",
    "x=np.asarray([-30,-10,10])\n",
    "plt.scatter(x,y,label='80')\n",
    "plt.legend()\n",
    "\n",
    "plt.grid()"
   ]
  },
  {
   "cell_type": "code",
   "execution_count": 95,
   "metadata": {},
   "outputs": [
    {
     "data": {
      "text/plain": [
       "<matplotlib.collections.PathCollection at 0x1e3005c0a30>"
      ]
     },
     "execution_count": 95,
     "metadata": {},
     "output_type": "execute_result"
    },
    {
     "data": {
      "image/png": "[encoded data removed]",
      "text/plain": [
       "<Figure size 432x288 with 1 Axes>"
      ]
     },
     "metadata": {
      "needs_background": "light"
     },
     "output_type": "display_data"
    }
   ],
   "source": [
    "dark1 = np.mean(fits.getdata('darkluca10.fit'))\n",
    "dark2 = np.mean(fits.getdata('darkluca30.fit'))\n",
    "dark3 = np.mean(fits.getdata('darkluca60.fit'))\n",
    "y=np.asarray([dark1,dark2,dark3])\n",
    "x=np.asarray([10,30,60])\n",
    "plt.scatter(x,y)"
   ]
  },
  {
   "cell_type": "code",
   "execution_count": null,
   "metadata": {},
   "outputs": [],
   "source": []
  }
 ],
 "metadata": {
  "kernelspec": {
   "display_name": "Python 3",
   "language": "python",
   "name": "python3"
  },
  "language_info": {
   "codemirror_mode": {
    "name": "ipython",
    "version": 3
   },
   "file_extension": ".py",
   "mimetype": "text/x-python",
   "name": "python",
   "nbconvert_exporter": "python",
   "pygments_lexer": "ipython3",
   "version": "3.7.6"
  }
 },
 "nbformat": 4,
 "nbformat_minor": 4
}
